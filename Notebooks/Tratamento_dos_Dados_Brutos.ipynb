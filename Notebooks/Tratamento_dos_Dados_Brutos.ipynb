{
  "nbformat": 4,
  "nbformat_minor": 0,
  "metadata": {
    "colab": {
      "name": "Tratamento dos Dados Brutos.ipynb",
      "provenance": [],
      "collapsed_sections": [],
      "authorship_tag": "ABX9TyOvFF7SpbIrGDzHktzH0i0H",
      "include_colab_link": true
    },
    "kernelspec": {
      "name": "python3",
      "display_name": "Python 3"
    },
    "language_info": {
      "name": "python"
    }
  },
  "cells": [
    {
      "cell_type": "markdown",
      "metadata": {
        "id": "view-in-github",
        "colab_type": "text"
      },
      "source": [
        "<a href=\"https://colab.research.google.com/github/NadiaaOliverr/O-Brasil-em-Dados-CCF-425/blob/main/Notebooks/Tratamento_dos_Dados_Brutos.ipynb\" target=\"_parent\"><img src=\"https://colab.research.google.com/assets/colab-badge.svg\" alt=\"Open In Colab\"/></a>"
      ]
    },
    {
      "cell_type": "markdown",
      "metadata": {
        "id": "WS9KwjbLzFN7"
      },
      "source": [
        "## Tratamento dos Dados Brutos\n",
        "\n",
        "Esse notebook contém todos os tratamentos realizados nas informações coletadas dos dados brutos, o que envolve adicionar mais colunas, retirar dados que não serão de análises, dentre outros. As manipulações obtidas nesse notebook estarão como resultado na pasta \"Dados/Tratados\", onde essa pasta servirá de endereço raiz para as análises."
      ]
    },
    {
      "cell_type": "markdown",
      "metadata": {
        "id": "eqAYP0Cxzlf9"
      },
      "source": [
        "### Importando as bibliotecas utilizadas"
      ]
    },
    {
      "cell_type": "code",
      "metadata": {
        "id": "2pWcfFQfzojK"
      },
      "source": [
        "import pandas as pd"
      ],
      "execution_count": null,
      "outputs": []
    },
    {
      "cell_type": "markdown",
      "metadata": {
        "id": "1wzKlsB1zuQO"
      },
      "source": [
        "### Tratamento na base de dados de doses de Sarampo"
      ]
    },
    {
      "cell_type": "code",
      "metadata": {
        "id": "vqQy21a8zqTL"
      },
      "source": [
        ""
      ],
      "execution_count": null,
      "outputs": []
    },
    {
      "cell_type": "markdown",
      "metadata": {
        "id": "u7lPqrt4z3zC"
      },
      "source": [
        "### Tratamento na base de dados de doses de Rubéola"
      ]
    },
    {
      "cell_type": "code",
      "metadata": {
        "id": "LpoWArttz971"
      },
      "source": [
        ""
      ],
      "execution_count": null,
      "outputs": []
    },
    {
      "cell_type": "markdown",
      "metadata": {
        "id": "mHPCUXh-z4AT"
      },
      "source": [
        "### Tratamento na base de dados de doses de Poliomielite"
      ]
    },
    {
      "cell_type": "code",
      "metadata": {
        "id": "5aDyhIwhz9Gx"
      },
      "source": [
        ""
      ],
      "execution_count": null,
      "outputs": []
    }
  ]
}